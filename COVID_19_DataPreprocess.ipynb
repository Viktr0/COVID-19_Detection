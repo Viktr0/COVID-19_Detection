{
  "nbformat": 4,
  "nbformat_minor": 0,
  "metadata": {
    "colab": {
      "name": "COVID-19 DataPreprocess.ipynb",
      "provenance": []
    },
    "kernelspec": {
      "name": "python3",
      "display_name": "Python 3"
    },
    "language_info": {
      "name": "python"
    }
  },
  "cells": [
    {
      "cell_type": "code",
      "metadata": {
        "id": "MoQaSehxLGDI"
      },
      "source": [
        "# IMPORT NECESSARY LIBS\n",
        "\n",
        "import os\n",
        "import shutil\n",
        "from PIL import Image\n",
        "import random"
      ],
      "execution_count": null,
      "outputs": []
    },
    {
      "cell_type": "code",
      "metadata": {
        "colab": {
          "base_uri": "https://localhost:8080/"
        },
        "id": "sYqAS9b7LVfG",
        "outputId": "404724fb-7c90-4709-eef2-5a7902910956"
      },
      "source": [
        "# MOUNT GOOGLE DRIVE\n",
        "\n",
        "from google.colab import drive\n",
        "drive.mount('/content/drive/')"
      ],
      "execution_count": null,
      "outputs": [
        {
          "output_type": "stream",
          "text": [
            "Mounted at /content/drive/\n"
          ],
          "name": "stdout"
        }
      ]
    },
    {
      "cell_type": "code",
      "metadata": {
        "id": "XJ7Zo4G2j-6T"
      },
      "source": [
        "# SELECT DATASET\n",
        "\n",
        "cxr = False   # True - CXR dataset | False - CT dataset"
      ],
      "execution_count": null,
      "outputs": []
    },
    {
      "cell_type": "code",
      "metadata": {
        "id": "n8rP8e9owpP3"
      },
      "source": [
        "# PATHES\n",
        "\n",
        "dataset_path = '/content/drive/MyDrive/Egyetem/Szakdolgozat/Code/Datasets/'\n",
        "base = dataset_path + 'CXR/images/' if cxr else dataset_path + 'CT/images/'\n",
        "covid_dir = base + 'covid-19/' if cxr else base + 'COVID/'\n",
        "normal_dir = base + 'normal/' if cxr else base + 'NonCOVID/'\n",
        "root = dataset_path + 'CXR/' if cxr else dataset_path + 'CT/'\n",
        "directory = '/content/drive/MyDrive/Egyetem/Szakdolgozat/Code/Datasets/CT/train/covid'"
      ],
      "execution_count": null,
      "outputs": []
    },
    {
      "cell_type": "code",
      "metadata": {
        "id": "blFD-6AoXCN6"
      },
      "source": [
        "# SPLIT DATASET\n",
        "\n",
        "def dataset_splitter(src, root, train, val, test, group):\n",
        "    train_root = root + 'train/' + group + '/'\n",
        "    val_root = root + 'valid/' + group + '/'\n",
        "    test_root = root + 'test/' + group + '/'\n",
        "    split = train + val\n",
        "    end = split + test\n",
        "    images = []\n",
        "    for filename in os.listdir(src):\n",
        "        full_name = src + filename\n",
        "        images.append(full_name)\n",
        "    random.shuffle(images)\n",
        "    index = 0\n",
        "    for old_name in images[:train]:\n",
        "        new_name = train_root + group + '_' + str(index) + '.png'\n",
        "        im = Image.open(old_name)\n",
        "        im.save(new_name)\n",
        "        index += 1\n",
        "    for old_name in images[train:split]:\n",
        "        new_name = val_root + group + '_' + str(index) + '.png'\n",
        "        im = Image.open(old_name)\n",
        "        im.save(new_name)\n",
        "        index += 1\n",
        "    for old_name in images[split:end]:\n",
        "        new_name = test_root + group + '_' + str(index) + '.png'\n",
        "        im = Image.open(old_name)\n",
        "        im.save(new_name)\n",
        "        index += 1"
      ],
      "execution_count": null,
      "outputs": []
    },
    {
      "cell_type": "code",
      "metadata": {
        "id": "ss2uDtWIlZ_S"
      },
      "source": [
        "# DATA SPLITTING\n",
        "\n",
        "if cxr:\n",
        "    # CXR data splitting\n",
        "    dataset_splitter(normal_dir, root, 784, 98, 98, 'normal')\n",
        "    dataset_splitter(covid_dir, root, 784, 98, 98, 'covid')\n",
        "else:\n",
        "    # CT data splitting\n",
        "    dataset_splitter(normal_dir, root, 317, 40, 40, 'normal')\n",
        "    dataset_splitter(covid_dir, root, 279, 35, 35, 'covid')"
      ],
      "execution_count": null,
      "outputs": []
    },
    {
      "cell_type": "code",
      "metadata": {
        "colab": {
          "base_uri": "https://localhost:8080/"
        },
        "id": "zPRf_hVWN67T",
        "outputId": "f0bae93a-3f9a-4944-ddb3-ed08f6330311"
      },
      "source": [
        "# COUNT IMAGES IN DIRECTORY\n",
        "\n",
        "sum = 0\n",
        "for filename in os.listdir(directory):\n",
        "    sum = sum + 1\n",
        "print(sum)"
      ],
      "execution_count": null,
      "outputs": [
        {
          "output_type": "stream",
          "text": [
            "279\n"
          ],
          "name": "stdout"
        }
      ]
    }
  ]
}